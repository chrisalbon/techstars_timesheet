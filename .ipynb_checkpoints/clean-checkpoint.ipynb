{
 "cells": [
  {
   "cell_type": "markdown",
   "metadata": {},
   "source": [
    "# Techstars Timesheet Data Prep"
   ]
  },
  {
   "cell_type": "markdown",
   "metadata": {},
   "source": [
    "## Preliminary"
   ]
  },
  {
   "cell_type": "code",
   "execution_count": 131,
   "metadata": {
    "collapsed": true
   },
   "outputs": [],
   "source": [
    "# Load required packages\n",
    "import pandas as pd\n",
    "import numpy as np"
   ]
  },
  {
   "cell_type": "markdown",
   "metadata": {},
   "source": [
    "## Data Import"
   ]
  },
  {
   "cell_type": "code",
   "execution_count": 132,
   "metadata": {
    "collapsed": true
   },
   "outputs": [],
   "source": [
    "# Import the raw data\n",
    "df = pd.read_csv(\"raw_data/gcal_export_v02.csv\")"
   ]
  },
  {
   "cell_type": "markdown",
   "metadata": {},
   "source": [
    "## Data Cleaning"
   ]
  },
  {
   "cell_type": "code",
   "execution_count": 133,
   "metadata": {
    "collapsed": false
   },
   "outputs": [],
   "source": [
    "# Clean a mispelled entry in the data\n",
    "df.Title = df.Title.replace('Technical Work\\r',\"Technical Work\")\n",
    "df.Title = df.Title.replace('Technical Work\\n',\"Technical Work\")\n",
    "\n",
    "# Rename a variable from Title to Activity to make it more descriptive\n",
    "df.rename(columns={'Title': 'Activity'}, inplace=True)\n",
    "\n",
    "# Rename entries from Meeting to Meeting/Networking to make it more descriptive\n",
    "df.Activity = df.Activity.replace('Meetings',\"Discussion\")\n",
    "df.Activity = df.Activity.replace('Meeting',\"Discussion\")"
   ]
  },
  {
   "cell_type": "code",
   "execution_count": 134,
   "metadata": {
    "collapsed": true
   },
   "outputs": [],
   "source": [
    "# Convert time format (4:30) into a numeric format (4.5)\n",
    "\n",
    "# Create an empty list\n",
    "duration_t = []\n",
    "\n",
    "# For each row in df.Duration,\n",
    "for row in df.Duration:\n",
    "    # Create a variable called time that is row, but split along any ':'\n",
    "    time = row.split(\":\")\n",
    "    # Then append the first element of time (hours), and the second element of time divided by 60 (minutes)\n",
    "    duration_t.append(int(time[0])+int(time[1])/60)\n",
    "    \n",
    "# Create a pandas column from the empty    \n",
    "df['Duration'] = duration_t"
   ]
  },
  {
   "cell_type": "code",
   "execution_count": 135,
   "metadata": {
    "collapsed": false
   },
   "outputs": [],
   "source": [
    "# Create a variable for the date (removing the hour or minute)\n",
    "\n",
    "# Create an empty list\n",
    "date = []\n",
    "\n",
    "# For each row in df.Start,\n",
    "for row in df.Start:\n",
    "    # Then convert row to a string, split it along the space, and append the first element of that split.\n",
    "    date.append(str(row).split(' ')[0])\n",
    "\n",
    "# Create a column from the list\n",
    "df['Date'] = date"
   ]
  },
  {
   "cell_type": "code",
   "execution_count": 136,
   "metadata": {
    "collapsed": false
   },
   "outputs": [
    {
     "data": {
      "text/html": [
       "<div>\n",
       "<table border=\"1\" class=\"dataframe\">\n",
       "  <thead>\n",
       "    <tr style=\"text-align: right;\">\n",
       "      <th></th>\n",
       "      <th>Activity</th>\n",
       "      <th>Start</th>\n",
       "      <th>End</th>\n",
       "      <th>Duration</th>\n",
       "      <th>Date</th>\n",
       "    </tr>\n",
       "  </thead>\n",
       "  <tbody>\n",
       "    <tr>\n",
       "      <th>0</th>\n",
       "      <td>Sleep</td>\n",
       "      <td>11/02/2015 00:00</td>\n",
       "      <td>11/02/2015 04:30</td>\n",
       "      <td>4.5</td>\n",
       "      <td>11/02/2015</td>\n",
       "    </tr>\n",
       "    <tr>\n",
       "      <th>1</th>\n",
       "      <td>Personal</td>\n",
       "      <td>11/02/2015 04:30</td>\n",
       "      <td>11/02/2015 05:30</td>\n",
       "      <td>1.0</td>\n",
       "      <td>11/02/2015</td>\n",
       "    </tr>\n",
       "    <tr>\n",
       "      <th>2</th>\n",
       "      <td>Non-Technical Work</td>\n",
       "      <td>11/02/2015 05:30</td>\n",
       "      <td>11/02/2015 08:00</td>\n",
       "      <td>2.5</td>\n",
       "      <td>11/02/2015</td>\n",
       "    </tr>\n",
       "    <tr>\n",
       "      <th>3</th>\n",
       "      <td>Discussion</td>\n",
       "      <td>11/02/2015 08:00</td>\n",
       "      <td>11/02/2015 14:30</td>\n",
       "      <td>6.5</td>\n",
       "      <td>11/02/2015</td>\n",
       "    </tr>\n",
       "    <tr>\n",
       "      <th>4</th>\n",
       "      <td>Non-Technical Work</td>\n",
       "      <td>11/02/2015 14:30</td>\n",
       "      <td>11/02/2015 16:00</td>\n",
       "      <td>1.5</td>\n",
       "      <td>11/02/2015</td>\n",
       "    </tr>\n",
       "  </tbody>\n",
       "</table>\n",
       "</div>"
      ],
      "text/plain": [
       "             Activity             Start               End  Duration  \\\n",
       "0               Sleep  11/02/2015 00:00  11/02/2015 04:30       4.5   \n",
       "1            Personal  11/02/2015 04:30  11/02/2015 05:30       1.0   \n",
       "2  Non-Technical Work  11/02/2015 05:30  11/02/2015 08:00       2.5   \n",
       "3          Discussion  11/02/2015 08:00  11/02/2015 14:30       6.5   \n",
       "4  Non-Technical Work  11/02/2015 14:30  11/02/2015 16:00       1.5   \n",
       "\n",
       "         Date  \n",
       "0  11/02/2015  \n",
       "1  11/02/2015  \n",
       "2  11/02/2015  \n",
       "3  11/02/2015  \n",
       "4  11/02/2015  "
      ]
     },
     "execution_count": 136,
     "metadata": {},
     "output_type": "execute_result"
    }
   ],
   "source": [
    "# Let's take a peak at the data now\n",
    "df.head()"
   ]
  },
  {
   "cell_type": "code",
   "execution_count": 137,
   "metadata": {
    "collapsed": true
   },
   "outputs": [],
   "source": [
    "# Save the dataframe as a csv file, without an index column\n",
    "df.to_csv('clean_data/activity_data.csv', index=False)"
   ]
  },
  {
   "cell_type": "markdown",
   "metadata": {},
   "source": [
    "## Create Interesting Subsets"
   ]
  },
  {
   "cell_type": "markdown",
   "metadata": {},
   "source": [
    "### Create the main data"
   ]
  },
  {
   "cell_type": "code",
   "execution_count": 138,
   "metadata": {
    "collapsed": false
   },
   "outputs": [],
   "source": [
    "# Create a dataframe by copying the df dataframe\n",
    "df_daily = df[:]\n",
    "# Convert the Date column to a time data type\n",
    "df_daily['Date'] = pd.to_datetime(df_daily['Date'])\n",
    "# Make the Date column the dataframe's index\n",
    "df_daily.index = df_daily['Date']\n",
    "# Group the data by Activity and organize by day\n",
    "df_daily = df_daily.groupby('Activity').resample('D', sum)\n",
    "# Fill in missing values with \"0\" (we do this because we know that if an activity has a missing value for a day, it means we didn't do it, thus spent 0 hours on it)\n",
    "df_daily = df_daily.fillna(\"0\")"
   ]
  },
  {
   "cell_type": "markdown",
   "metadata": {},
   "source": [
    "### Creating free time data"
   ]
  },
  {
   "cell_type": "code",
   "execution_count": 139,
   "metadata": {
    "collapsed": false
   },
   "outputs": [],
   "source": [
    "df_daily['Free Time'] = np.where((df_daily.index.get_level_values('Activity') == 'Discussion') |\n",
    "                                 (df_daily.index.get_level_values('Activity') == 'Technical Work') |\n",
    "                                 (df_daily.index.get_level_values('Activity') == 'Non-Technical Work'), 'Work Time', 'Free Time')"
   ]
  },
  {
   "cell_type": "code",
   "execution_count": 140,
   "metadata": {
    "collapsed": true
   },
   "outputs": [],
   "source": [
    "# Save as a csv file with an index column\n",
    "df_daily.to_csv('clean_data/daily_data.csv', index=True)"
   ]
  },
  {
   "cell_type": "markdown",
   "metadata": {},
   "source": [
    "### Creating data for major holidays"
   ]
  },
  {
   "cell_type": "code",
   "execution_count": 141,
   "metadata": {
    "collapsed": false
   },
   "outputs": [
    {
     "name": "stderr",
     "output_type": "stream",
     "text": [
      "/Users/chrisralbon/anaconda/lib/python3.5/site-packages/ipykernel/__main__.py:4: SettingWithCopyWarning: \n",
      "A value is trying to be set on a copy of a slice from a DataFrame.\n",
      "Try using .loc[row_indexer,col_indexer] = value instead\n",
      "\n",
      "See the caveats in the documentation: http://pandas.pydata.org/pandas-docs/stable/indexing.html#indexing-view-versus-copy\n"
     ]
    }
   ],
   "source": [
    "# Create a dataframe called thanksgiving which just contains activities on that day\n",
    "thanksgiving = df_daily.query('Date == \"2015-11-26\"')\n",
    "# Create a new column of the dataframe containing the name of that holiday\n",
    "thanksgiving['Holiday'] = pd.Series(['Thanksgiving']*len(thanksgiving), index=thanksgiving.index)"
   ]
  },
  {
   "cell_type": "code",
   "execution_count": 142,
   "metadata": {
    "collapsed": false
   },
   "outputs": [
    {
     "name": "stderr",
     "output_type": "stream",
     "text": [
      "/Users/chrisralbon/anaconda/lib/python3.5/site-packages/ipykernel/__main__.py:4: SettingWithCopyWarning: \n",
      "A value is trying to be set on a copy of a slice from a DataFrame.\n",
      "Try using .loc[row_indexer,col_indexer] = value instead\n",
      "\n",
      "See the caveats in the documentation: http://pandas.pydata.org/pandas-docs/stable/indexing.html#indexing-view-versus-copy\n"
     ]
    }
   ],
   "source": [
    "# Create a dataframe called christmas which just contains activities on that day\n",
    "christmas = df_daily.query('Date == \"2015-12-25\"')\n",
    "# Create a new column of the dataframe containing the name of that holiday\n",
    "christmas['Holiday'] = pd.Series(['Christmas']*len(christmas), index=christmas.index)"
   ]
  },
  {
   "cell_type": "code",
   "execution_count": 143,
   "metadata": {
    "collapsed": false
   },
   "outputs": [
    {
     "name": "stderr",
     "output_type": "stream",
     "text": [
      "/Users/chrisralbon/anaconda/lib/python3.5/site-packages/ipykernel/__main__.py:4: SettingWithCopyWarning: \n",
      "A value is trying to be set on a copy of a slice from a DataFrame.\n",
      "Try using .loc[row_indexer,col_indexer] = value instead\n",
      "\n",
      "See the caveats in the documentation: http://pandas.pydata.org/pandas-docs/stable/indexing.html#indexing-view-versus-copy\n"
     ]
    }
   ],
   "source": [
    "# Create a dataframe called new_years_ever which just contains activities on that day\n",
    "new_years_eve = df_daily.query('Date == \"2015-12-31\"')\n",
    "# Create a new column of the dataframe containing the name of that holiday\n",
    "new_years_eve['Holiday'] = pd.Series(['New Years Eve']*len(new_years_eve), index=new_years_eve.index)"
   ]
  },
  {
   "cell_type": "code",
   "execution_count": 144,
   "metadata": {
    "collapsed": false
   },
   "outputs": [],
   "source": [
    "# Merge all three holiday dataframes together into one dataframe\n",
    "df_holidays = pd.concat([thanksgiving ,christmas, new_years_eve])"
   ]
  },
  {
   "cell_type": "code",
   "execution_count": 145,
   "metadata": {
    "collapsed": true
   },
   "outputs": [],
   "source": [
    "# Save as a csv file with an index column\n",
    "df_holidays.to_csv('clean_data/holiday_data.csv', index=True)"
   ]
  },
  {
   "cell_type": "markdown",
   "metadata": {},
   "source": [
    "## Garage Pile"
   ]
  },
  {
   "cell_type": "code",
   "execution_count": 146,
   "metadata": {
    "collapsed": true
   },
   "outputs": [],
   "source": [
    "# This is a clever bit of code that tests to see if an activity doesnt exist each day and if it doesn't creates a new entry in the dataframe with that activity, but with 0 hours for duration.\n",
    "\n",
    "# for date in df.Date.unique():\n",
    "#\n",
    "#    if any(df[df['Date'] == date].Activity == 'Sleep') == False:\n",
    "#        df_sleep = pd.DataFrame([['Sleep', np.nan, np.nan, 0, date]], columns=['Activity', 'Start', 'End', 'Duration', 'Date'])\n",
    "#        df = df.append(df_sleep)\n",
    "#\n",
    "#    if any(df[df['Date'] == date].Activity == 'Exercise') == False:\n",
    "#        df_exercise = pd.DataFrame([['Exercise', np.nan, np.nan, 0, date]], columns=['Activity', 'Start', 'End', 'Duration', 'Date'])\n",
    "#        df = df.append(df_exercise)\n",
    "#\n",
    "#    if any(df[df['Date'] == date].Activity == 'Personal') == False:\n",
    "#        df_personal = pd.DataFrame([['Personal', np.nan, np.nan, 0, date]], columns=['Activity', 'Start', 'End', 'Duration', 'Date'])\n",
    "#        df = df.append(df_personal)\n",
    "#\n",
    "#    if any(df[df['Date'] == date].Activity == 'Non-Technical Work') == False:\n",
    "#        df_nontechnicalwork = pd.DataFrame([['Non-Technical Work', np.nan, np.nan, 0, date]], columns=['Activity', 'Start', 'End', 'Duration', 'Date'])\n",
    "#        df = df.append(df_nontechnicalwork)\n",
    "#\n",
    "#    if any(df[df['Date'] == date].Activity == 'Technical Work') == False:\n",
    "#        df_technicalwork = pd.DataFrame([['Technical Work', np.nan, np.nan, 0, date]], columns=['Activity', 'Start', 'End', 'Duration', 'Date'])\n",
    "#        df = df.append(df_technicalwork)\n",
    "#\n",
    "#    if any(df[df['Date'] == date].Activity == 'Meetings') == False:\n",
    "#        df_meetings = pd.DataFrame([['Meetings', np.nan, np.nan, 0, date]], columns=['Activity', 'Start', 'End', 'Duration', 'Date'])\n",
    "#        df = df.append(df_technicalwork)\n",
    "#\n",
    "#    if any(df[df['Date'] == date].Activity == 'Travel') == False:\n",
    "#        df_travel = pd.DataFrame([['Travel', np.nan, np.nan, 0, date]], columns=['Activity', 'Start', 'End', 'Duration', 'Date'])\n",
    "#        df = df.append(df_travel)"
   ]
  }
 ],
 "metadata": {
  "kernelspec": {
   "display_name": "Python 3",
   "language": "python",
   "name": "python3"
  },
  "language_info": {
   "codemirror_mode": {
    "name": "ipython",
    "version": 3
   },
   "file_extension": ".py",
   "mimetype": "text/x-python",
   "name": "python",
   "nbconvert_exporter": "python",
   "pygments_lexer": "ipython3",
   "version": "3.5.1"
  }
 },
 "nbformat": 4,
 "nbformat_minor": 0
}
